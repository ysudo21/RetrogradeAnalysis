{
 "cells": [
  {
   "cell_type": "code",
   "execution_count": 1,
   "metadata": {},
   "outputs": [],
   "source": [
    "from multiprocessing import Pool\n",
    "import threading"
   ]
  },
  {
   "cell_type": "code",
   "execution_count": 2,
   "metadata": {},
   "outputs": [],
   "source": [
    "class Field:\n",
    "    \n",
    "    '''\n",
    "    :シングルトンクラス\n",
    "    '''\n",
    "    __instance = None\n",
    "\n",
    "    @staticmethod \n",
    "    def getInstance():\n",
    "        if Field.__instance == None:\n",
    "            Field()\n",
    "        return Field.__instance\n",
    "\n",
    "    def __init__(self):\n",
    "        if Field.__instance != None:\n",
    "            raise Exception(\"Singletonクラス\")\n",
    "        else:\n",
    "            Field.__instance = self\n",
    "\n",
    "\n",
    "    def isAble(self,field):\n",
    "        '''\n",
    "          :param field: 局面\n",
    "          :return: boolean\n",
    "        '''\n",
    "        countWhite = 0\n",
    "        countBlack = 0\n",
    "\n",
    "        for i in range(0,9):\n",
    "            if (field[i] == 1):\n",
    "                countWhite += 1\n",
    "            elif (field[i] == 2):\n",
    "                countBlack += 1\n",
    "        if (countWhite>2 or countBlack>2):\n",
    "            return False\n",
    "        else:\n",
    "            countWhite = 0;\n",
    "            countBlack = 0;\n",
    "\n",
    "        for i in range(9,18):\n",
    "            if (field[i] == 1):\n",
    "                countWhite += 1\n",
    "            elif (field[i] == 2):\n",
    "                countBlack += 1\n",
    "\n",
    "        if (countWhite>2 or countBlack>2):\n",
    "            return False\n",
    "        else:\n",
    "            countWhite = 0\n",
    "            countBlack = 0\n",
    "\n",
    "        for i in range(18,27):\n",
    "            if (field[i] == 1):\n",
    "                countWhite += 1\n",
    "            elif (field[i] == 2):\n",
    "                countBlack += 1\n",
    "        if (countWhite>2 or countBlack>2):\n",
    "            return False\n",
    "        else:\n",
    "            countWhite = 0\n",
    "            countBlack = 0\n",
    "\n",
    "        return True\n",
    "\n",
    "    def Base_10_to_n(self,X,n):\n",
    "        '''\n",
    "          :param X: 10進数\n",
    "          :param n: n進数\n",
    "          :return: 10進数をn進数に変換したもの\n",
    "        '''\n",
    "        if (int(X/n)):\n",
    "            return self.Base_10_to_n(int(X/n), n)+str(X%n)\n",
    "\n",
    "        return str(X%n)\n",
    "\n",
    "    def radixConversionFromTen(self,x):\n",
    "        '''\n",
    "          :param x: 10進数\n",
    "          :return: 3進数、要素27の配列\n",
    "        '''\n",
    "        word = self.Base_10_to_n(x,3)\n",
    "        word_list = list(word)\n",
    "        while len(word_list) != 27:\n",
    "          word_list.insert(0,\"0\")\n",
    "        num_list = []\n",
    "        for s in word_list:\n",
    "          num_list.append(int(s))\n",
    "\n",
    "        return num_list;"
   ]
  },
  {
   "cell_type": "code",
   "execution_count": 3,
   "metadata": {},
   "outputs": [
    {
     "name": "stdout",
     "output_type": "stream",
     "text": [
      "[0, 0, 0, 0, 0, 0, 0, 0, 0, 0, 0, 0, 0, 0, 0, 0, 0, 0, 0, 0, 0, 0, 0, 0, 2, 1, 0]\n"
     ]
    }
   ],
   "source": [
    "field = Field.getInstance()\n",
    "a = field.radixConversionFromTen(21)\n",
    "print(a)"
   ]
  },
  {
   "cell_type": "code",
   "execution_count": 14,
   "metadata": {},
   "outputs": [],
   "source": [
    "class AllPositions:\n",
    "\n",
    "    def __init__(self):\n",
    "         self.allPositions = []\n",
    "         self.field = Field.getInstance()\n",
    "\n",
    "    def listUp(self,x):\n",
    "        # for i in range(x):\n",
    "        #     oneField = field.radixConversionFromTen(i)\n",
    "            oneField = field.radixConversionFromTen(x)\n",
    "            if (field.isAble(oneField)):\n",
    "                return x;\n",
    "                \n",
    "\n",
    "    def listUpAllPositions(self):\n",
    "        if __name__ == \"__main__\":\n",
    "            with Pool(processes=64) as p :\n",
    "                return [x for x in p.map( self.listUp, range(3**15) ) if x is not None]\n",
    "\n",
    "    def getAllPositions(self):\n",
    "        return self.allPositions\n",
    "\n",
    "    def setAllPositions(self,x):\n",
    "        self.allPositions = x"
   ]
  },
  {
   "cell_type": "code",
   "execution_count": 15,
   "metadata": {},
   "outputs": [
    {
     "name": "stdout",
     "output_type": "stream",
     "text": [
      "402709\n"
     ]
    }
   ],
   "source": [
    "field = Field.getInstance()\n",
    "\n",
    "allPositions = AllPositions()\n",
    "allPositions.setAllPositions(allPositions.listUpAllPositions())ssh -i mygpukey.pem ubuntu@18.182.54.38\n",
    "# allPositions.listUp(3*27)\n",
    "count = 0\n",
    "for set in allPositions.getAllPositions():\n",
    "    # for e in set:\n",
    "    #     print(e)\n",
    "    #     System.out.println(Arrays.toString(field.radixConversionFromTen(e)))\n",
    "    #     count += 1\n",
    "    count += 1\n",
    "print(count)"
   ]
  },
  {
   "cell_type": "code",
   "execution_count": null,
   "metadata": {},
   "outputs": [],
   "source": []
  }
 ],
 "metadata": {
  "kernelspec": {
   "display_name": "Python 3",
   "language": "python",
   "name": "python3"
  },
  "language_info": {
   "codemirror_mode": {
    "name": "ipython",
    "version": 3
   },
   "file_extension": ".py",
   "mimetype": "text/x-python",
   "name": "python",
   "nbconvert_exporter": "python",
   "pygments_lexer": "ipython3",
   "version": "3.7.4"
  }
 },
 "nbformat": 4,
 "nbformat_minor": 4
}
